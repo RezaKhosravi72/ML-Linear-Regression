{
 "cells": [
  {
   "cell_type": "code",
   "execution_count": 75,
   "id": "bdf8e1a7",
   "metadata": {},
   "outputs": [],
   "source": [
    "def word_reverser(string):\n",
    "    words = string.split(' ')\n",
    "    rev_words = words[::-1]\n",
    "    return ' '.join(rev_words)"
   ]
  },
  {
   "cell_type": "code",
   "execution_count": 76,
   "id": "b0f1f338",
   "metadata": {},
   "outputs": [
    {
     "data": {
      "text/plain": [
       "'reza am I'"
      ]
     },
     "execution_count": 76,
     "metadata": {},
     "output_type": "execute_result"
    }
   ],
   "source": [
    "word_reverser('I am reza')"
   ]
  },
  {
   "cell_type": "code",
   "execution_count": null,
   "id": "4962db5a",
   "metadata": {},
   "outputs": [],
   "source": []
  }
 ],
 "metadata": {
  "kernelspec": {
   "display_name": "Python 3 (ipykernel)",
   "language": "python",
   "name": "python3"
  },
  "language_info": {
   "codemirror_mode": {
    "name": "ipython",
    "version": 3
   },
   "file_extension": ".py",
   "mimetype": "text/x-python",
   "name": "python",
   "nbconvert_exporter": "python",
   "pygments_lexer": "ipython3",
   "version": "3.9.7"
  }
 },
 "nbformat": 4,
 "nbformat_minor": 5
}
