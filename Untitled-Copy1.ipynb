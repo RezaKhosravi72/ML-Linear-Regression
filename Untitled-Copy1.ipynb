{
 "cells": [
  {
   "cell_type": "markdown",
   "id": "b7b700cb",
   "metadata": {},
   "source": [
    "* LESSER OF TWO EVENS: Write a function that returns the lesser of two given numbers if both numbers are even, but returns the greater if one or both numbers are odd\n",
    "\n",
    "        $ lesser_of_two_evens(2,4) --> 2 $\n",
    "        \n",
    "        $ lesser_of_two_evens(2,5) --> 5 $"
   ]
  },
  {
   "cell_type": "code",
   "execution_count": 39,
   "id": "09f63468",
   "metadata": {},
   "outputs": [],
   "source": [
    "def max_min(x1, x2):\n",
    "    min_x = x1\n",
    "    max_x = 0\n",
    "    if x1%2==0 and x2%2==0:\n",
    "        for i in [x1, x2]:\n",
    "            if i <= min_x:\n",
    "                min_x = i\n",
    "        return min_x\n",
    "    else: \n",
    "        for i in [x1, x2]:\n",
    "            if i >= max_x:\n",
    "                max_x = i\n",
    "        return max_x"
   ]
  },
  {
   "cell_type": "code",
   "execution_count": 45,
   "id": "03817ecf",
   "metadata": {},
   "outputs": [
    {
     "data": {
      "text/plain": [
       "5"
      ]
     },
     "execution_count": 45,
     "metadata": {},
     "output_type": "execute_result"
    }
   ],
   "source": [
    "max_min(2,5)"
   ]
  }
 ],
 "metadata": {
  "kernelspec": {
   "display_name": "Python 3 (ipykernel)",
   "language": "python",
   "name": "python3"
  },
  "language_info": {
   "codemirror_mode": {
    "name": "ipython",
    "version": 3
   },
   "file_extension": ".py",
   "mimetype": "text/x-python",
   "name": "python",
   "nbconvert_exporter": "python",
   "pygments_lexer": "ipython3",
   "version": "3.9.7"
  }
 },
 "nbformat": 4,
 "nbformat_minor": 5
}
